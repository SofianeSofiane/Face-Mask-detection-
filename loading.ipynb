{
  "nbformat": 4,
  "nbformat_minor": 0,
  "metadata": {
    "colab": {
      "name": "loading.ipynb",
      "provenance": [],
      "collapsed_sections": [],
      "authorship_tag": "ABX9TyPUguCqRA+sl92ol/3qTZJc",
      "include_colab_link": true
    },
    "kernelspec": {
      "display_name": "Python 3",
      "name": "python3"
    },
    "accelerator": "GPU"
  },
  "cells": [
    {
      "cell_type": "markdown",
      "metadata": {
        "id": "view-in-github",
        "colab_type": "text"
      },
      "source": [
        "<a href=\"https://colab.research.google.com/github/SofianeSofiane/Face-Mask-detection-/blob/main/loading.ipynb\" target=\"_parent\"><img src=\"https://colab.research.google.com/assets/colab-badge.svg\" alt=\"Open In Colab\"/></a>"
      ]
    },
    {
      "cell_type": "code",
      "metadata": {
        "colab": {
          "base_uri": "https://localhost:8080/"
        },
        "id": "RBOvLdC5pJPQ",
        "outputId": "bde92492-c0ac-41e8-a166-d0cd34569433"
      },
      "source": [
        "from google.colab import drive\n",
        "drive.mount('/content/drive')"
      ],
      "execution_count": null,
      "outputs": [
        {
          "output_type": "stream",
          "text": [
            "Mounted at /content/drive\n"
          ],
          "name": "stdout"
        }
      ]
    },
    {
      "cell_type": "code",
      "metadata": {
        "id": "7vz-ey4QpOE_"
      },
      "source": [
        "from keras.models import Sequential\n",
        "from keras.layers import Dense,Activation,Flatten,Dropout\n",
        "from keras.layers import Conv2D,MaxPooling2D\n",
        "\n",
        "\n",
        "my_model=Sequential()\n",
        "\n",
        "my_model.add(Conv2D(64,(3,3),input_shape=(200, 200, 1)))\n",
        "my_model.add(Activation('relu'))\n",
        "my_model.add(MaxPooling2D(pool_size=(2,2)))\n",
        "\n",
        "my_model.add(Conv2D(128,(3,3)))\n",
        "my_model.add(Activation('relu'))\n",
        "my_model.add(MaxPooling2D(pool_size=(2,2)))\n",
        "\n",
        "my_model.add(Flatten())\n",
        "my_model.add(Dropout(0.5))\n",
        "\n",
        "my_model.add(Dense(64,activation='relu'))\n",
        "\n",
        "my_model.add(Dense(2,activation='softmax'))"
      ],
      "execution_count": null,
      "outputs": []
    },
    {
      "cell_type": "code",
      "metadata": {
        "id": "2Dmsh9opdQ_k"
      },
      "source": [
        "from keras.utils.vis_utils import plot_model\n",
        "\n",
        "plot_model(my_model, to_file='model_plot.png', show_shapes=True, show_layer_names=True)"
      ],
      "execution_count": null,
      "outputs": []
    },
    {
      "cell_type": "code",
      "metadata": {
        "id": "R1wP4PBFDI0F"
      },
      "source": [
        "import os\n",
        "import tensorflow\n",
        "checkpoint_path = \"drive/MyDrive/training_1/cp.ckpt\"\n",
        "checkpoint_dir = os.path.dirname(checkpoint_path)"
      ],
      "execution_count": null,
      "outputs": []
    },
    {
      "cell_type": "code",
      "metadata": {
        "colab": {
          "base_uri": "https://localhost:8080/"
        },
        "id": "A1cfJDTxDBxu",
        "outputId": "929dee9e-ca4f-451a-ab3d-00aa0cb46b1d"
      },
      "source": [
        "import tensorflow as tf\n",
        "!ls {checkpoint_dir}\n",
        "latest = tf.train.latest_checkpoint(checkpoint_dir)\n"
      ],
      "execution_count": null,
      "outputs": [
        {
          "output_type": "stream",
          "text": [
            "checkpoint  cp.ckpt.data-00000-of-00001  cp.ckpt.index\n"
          ],
          "name": "stdout"
        }
      ]
    },
    {
      "cell_type": "code",
      "metadata": {
        "colab": {
          "base_uri": "https://localhost:8080/"
        },
        "id": "yJhmUtEzpSiG",
        "outputId": "0300f86b-d273-4da4-bf7c-a84b4adc611e"
      },
      "source": [
        "\n",
        "my_model.load_weights(checkpoint_path)"
      ],
      "execution_count": null,
      "outputs": [
        {
          "output_type": "execute_result",
          "data": {
            "text/plain": [
              "<tensorflow.python.training.tracking.util.CheckpointLoadStatus at 0x7f3c90296be0>"
            ]
          },
          "metadata": {
            "tags": []
          },
          "execution_count": 6
        }
      ]
    },
    {
      "cell_type": "code",
      "metadata": {
        "id": "Dh1tFHJlpXl6"
      },
      "source": [
        "from IPython.display import display, Javascript\n",
        "from google.colab.output import eval_js\n",
        "from base64 import b64decode\n",
        "\n",
        "def take_photo(filename='photo.jpg', quality=0.8):\n",
        "  js = Javascript('''\n",
        "    async function takePhoto(quality) {\n",
        "      const div = document.createElement('div');\n",
        "      const capture = document.createElement('button');\n",
        "      capture.textContent = 'Capture';\n",
        "      div.appendChild(capture);\n",
        "\n",
        "      const video = document.createElement('video');\n",
        "      video.style.display = 'block';\n",
        "      const stream = await navigator.mediaDevices.getUserMedia({video: true});\n",
        "\n",
        "      document.body.appendChild(div);\n",
        "      div.appendChild(video);\n",
        "      video.srcObject = stream;\n",
        "      await video.play();\n",
        "\n",
        "      // Resize the output to fit the video element.\n",
        "      google.colab.output.setIframeHeight(document.documentElement.scrollHeight, true);\n",
        "\n",
        "      // Wait for Capture to be clicked.\n",
        "      await new Promise((resolve) => capture.onclick = resolve);\n",
        "\n",
        "      const canvas = document.createElement('canvas');\n",
        "      canvas.width = video.videoWidth;\n",
        "      canvas.height = video.videoHeight;\n",
        "      canvas.getContext('2d').drawImage(video, 0, 0);\n",
        "      stream.getVideoTracks()[0].stop();\n",
        "      div.remove();\n",
        "      return canvas.toDataURL('image/jpeg', quality);\n",
        "    }\n",
        "    ''')\n",
        "  display(js)\n",
        "  data = eval_js('takePhoto({})'.format(quality))\n",
        "  binary = b64decode(data.split(',')[1])\n",
        "  with open(filename, 'wb') as f:\n",
        "    f.write(binary)\n",
        "  return filename"
      ],
      "execution_count": null,
      "outputs": []
    },
    {
      "cell_type": "code",
      "metadata": {
        "id": "j-qvz8fdpq5Q"
      },
      "source": [
        "from IPython.display import Image\n",
        "try:\n",
        "  filename = take_photo()\n",
        "  print('Saved to {}'.format(filename))\n",
        "  \n",
        "  # Show the image which was just taken.\n",
        "  display(Image(filename))\n",
        "except Exception as err:\n",
        "  # Errors will be thrown if the user does not have a webcam or if they do not\n",
        "  # grant the page permission to access it.\n",
        "  print(str(err))"
      ],
      "execution_count": null,
      "outputs": []
    },
    {
      "cell_type": "code",
      "metadata": {
        "id": "zwocpy1yqUsC"
      },
      "source": [
        "from google.colab.patches import cv2_imshow\n",
        "\n",
        "text_dict={0:'Mask ON',1:'No Mask'}\n",
        "rect_color_dict={0:(0,255,0),1:(0,0,255)}"
      ],
      "execution_count": null,
      "outputs": []
    },
    {
      "cell_type": "code",
      "metadata": {
        "id": "yCHBkAFfkl8v",
        "colab": {
          "base_uri": "https://localhost:8080/"
        },
        "outputId": "7fd05e3e-284f-48f2-acba-28497acc9d5e"
      },
      "source": [
        "!pip install face_recognition\n"
      ],
      "execution_count": null,
      "outputs": [
        {
          "output_type": "stream",
          "text": [
            "Collecting face_recognition\n",
            "  Downloading https://files.pythonhosted.org/packages/1e/95/f6c9330f54ab07bfa032bf3715c12455a381083125d8880c43cbe76bb3d0/face_recognition-1.3.0-py2.py3-none-any.whl\n",
            "Requirement already satisfied: Pillow in /usr/local/lib/python3.6/dist-packages (from face_recognition) (7.0.0)\n",
            "Collecting face-recognition-models>=0.3.0\n",
            "\u001b[?25l  Downloading https://files.pythonhosted.org/packages/cf/3b/4fd8c534f6c0d1b80ce0973d01331525538045084c73c153ee6df20224cf/face_recognition_models-0.3.0.tar.gz (100.1MB)\n",
            "\u001b[K     |████████████████████████████████| 100.2MB 74kB/s \n",
            "\u001b[?25hRequirement already satisfied: numpy in /usr/local/lib/python3.6/dist-packages (from face_recognition) (1.19.5)\n",
            "Requirement already satisfied: dlib>=19.7 in /usr/local/lib/python3.6/dist-packages (from face_recognition) (19.18.0)\n",
            "Requirement already satisfied: Click>=6.0 in /usr/local/lib/python3.6/dist-packages (from face_recognition) (7.1.2)\n",
            "Building wheels for collected packages: face-recognition-models\n",
            "  Building wheel for face-recognition-models (setup.py) ... \u001b[?25l\u001b[?25hdone\n",
            "  Created wheel for face-recognition-models: filename=face_recognition_models-0.3.0-py2.py3-none-any.whl size=100566173 sha256=0672d18a82ef7cb274a29465e378508835121dcc8d794e7760dac440b8bb93d3\n",
            "  Stored in directory: /root/.cache/pip/wheels/d2/99/18/59c6c8f01e39810415c0e63f5bede7d83dfb0ffc039865465f\n",
            "Successfully built face-recognition-models\n",
            "Installing collected packages: face-recognition-models, face-recognition\n",
            "Successfully installed face-recognition-1.3.0 face-recognition-models-0.3.0\n"
          ],
          "name": "stdout"
        }
      ]
    },
    {
      "cell_type": "code",
      "metadata": {
        "id": "fE2Rd0H_pi9b"
      },
      "source": [
        "import cv2\n",
        "import numpy as np\n",
        "import face_recognition\n",
        "\n",
        "image=cv2.imread('photo.jpg')\n",
        "\n",
        "img=cv2.cvtColor(image,cv2.COLOR_BGR2GRAY)\n",
        "\n",
        "faces = face_recognition.face_locations(image,model='hog')\n",
        "\n",
        "type=isinstance(faces,tuple)\n",
        "\n",
        "if type==False:\n",
        "  for face in faces:\n",
        "     face_location = np.array(face)\n",
        "\n",
        "     x = face_location[3]\n",
        "     y = face_location[0]\n",
        "     w = face_location[1] - face_location[3]\n",
        "     h = face_location[2] - face_location[0]\n",
        "\n",
        "     im = image[y:y + w, x:x + w]\n",
        "     \n",
        "     grayscale_image=cv2.cvtColor(im,cv2.COLOR_BGR2GRAY)\n",
        "     resized_image=cv2.resize(grayscale_image,(200, 200))\n",
        "     imags=[]\n",
        "     imags.append(resized_image)\n",
        "     imags=np.array(imags)/255.0\n",
        "     imags=np.reshape(imags,(imags.shape[0],200, 200,1))\n",
        "     predictions=my_model.predict(imags)\n",
        "     predictions=np.argmax(predictions)\n",
        "     label=predictions\n",
        "     cv2.rectangle(image,(x,y),(x+w,y+h),rect_color_dict[label],2)\n",
        "     cv2.rectangle(image,(x,y-40),(x+w,y),rect_color_dict[label],-1)\n",
        "     cv2.putText(image, text_dict[label], (x, y-10),cv2.FONT_HERSHEY_SIMPLEX,0.8,(0,0,0),2)\n",
        "  cv2_imshow(image)\n",
        "else:\n",
        "  print('no faces detected')"
      ],
      "execution_count": null,
      "outputs": []
    }
  ]
}